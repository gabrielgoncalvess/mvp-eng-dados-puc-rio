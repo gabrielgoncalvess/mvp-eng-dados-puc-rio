{
 "cells": [
  {
   "cell_type": "code",
   "execution_count": 1,
   "metadata": {},
   "outputs": [],
   "source": [
    "import pandas as pd"
   ]
  },
  {
   "cell_type": "code",
   "execution_count": 14,
   "metadata": {},
   "outputs": [],
   "source": [
    "df_principal = pd.read_excel('FATAL ENCOUNTERS DOT ORG SPREADSHEET (See Read me tab).xlsx', sheet_name='Form Responses')"
   ]
  },
  {
   "cell_type": "code",
   "execution_count": 15,
   "metadata": {},
   "outputs": [],
   "source": [
    "# Extrair somente as colunas relevantes\n",
    "df_principal = df_principal[['Unique ID','Name','Age','Gender','Race',' Date of injury resulting in death (month/day/year)',\n",
    "         'Location of injury (address)','Location of death (city)','State','Location of death (zip code)','Location of death (county)',\n",
    "         'Full Address','Latitude','Longitude','Agency or agencies involved','Highest level of force','Armed/Unarmed','Alleged weapon',\n",
    "         'Aggressive physical movement','Fleeing/Not fleeing','Brief description','Intended use of force (Developing)']]"
   ]
  },
  {
   "cell_type": "code",
   "execution_count": 16,
   "metadata": {},
   "outputs": [],
   "source": [
    "# Retirar última linha (inútil)\n",
    "df_principal = df_principal[:-1]"
   ]
  },
  {
   "cell_type": "code",
   "execution_count": 2,
   "metadata": {},
   "outputs": [],
   "source": [
    "df_estados_pop = pd.read_excel('FATAL ENCOUNTERS DOT ORG SPREADSHEET (See Read me tab).xlsx', sheet_name='State Abbreviations and Populat')"
   ]
  },
  {
   "cell_type": "code",
   "execution_count": 8,
   "metadata": {},
   "outputs": [],
   "source": [
    "df_estados_pop.rename(columns={'Unnamed: 2':'Type'}, inplace=True)"
   ]
  },
  {
   "cell_type": "code",
   "execution_count": 11,
   "metadata": {},
   "outputs": [],
   "source": [
    "df_estados_pop.drop(columns=['Unnamed: 7','Unnamed: 8'],inplace=True)"
   ]
  },
  {
   "cell_type": "code",
   "execution_count": null,
   "metadata": {},
   "outputs": [],
   "source": [
    "df_estados_pop"
   ]
  },
  {
   "cell_type": "code",
   "execution_count": 18,
   "metadata": {},
   "outputs": [],
   "source": [
    "# Salvar dataframes tratados com novos nomes\n",
    "df_estados_pop.to_csv('fatal_encounters_states_population.csv', index=False)\n",
    "df_principal.to_csv('fatal_encounters_main.csv', index=False)"
   ]
  }
 ],
 "metadata": {
  "kernelspec": {
   "display_name": "base",
   "language": "python",
   "name": "python3"
  },
  "language_info": {
   "codemirror_mode": {
    "name": "ipython",
    "version": 3
   },
   "file_extension": ".py",
   "mimetype": "text/x-python",
   "name": "python",
   "nbconvert_exporter": "python",
   "pygments_lexer": "ipython3",
   "version": "3.9.13"
  },
  "orig_nbformat": 4
 },
 "nbformat": 4,
 "nbformat_minor": 2
}
